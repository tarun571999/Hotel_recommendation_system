{
 "cells": [
  {
   "cell_type": "markdown",
   "metadata": {},
   "source": [
    "# PACKAGES AND VISUALIZATION"
   ]
  },
  {
   "cell_type": "code",
   "execution_count": 1,
   "metadata": {},
   "outputs": [],
   "source": [
    "import numpy as np\n",
    "import pandas as pd\n",
    "import matplotlib.pyplot as plt\n",
    "import seaborn as sns\n",
    "sns.set_style('white')\n",
    "%matplotlib inline\n",
    "import scipy.sparse\n",
    "from scipy.sparse import csr_matrix\n",
    "from scipy.sparse.linalg import svds\n",
    "import warnings; warnings.simplefilter('ignore')"
   ]
  },
  {
   "cell_type": "code",
   "execution_count": 2,
   "metadata": {},
   "outputs": [
    {
     "data": {
      "text/html": [
       "<div>\n",
       "<style scoped>\n",
       "    .dataframe tbody tr th:only-of-type {\n",
       "        vertical-align: middle;\n",
       "    }\n",
       "\n",
       "    .dataframe tbody tr th {\n",
       "        vertical-align: top;\n",
       "    }\n",
       "\n",
       "    .dataframe thead th {\n",
       "        text-align: right;\n",
       "    }\n",
       "</style>\n",
       "<table border=\"1\" class=\"dataframe\">\n",
       "  <thead>\n",
       "    <tr style=\"text-align: right;\">\n",
       "      <th></th>\n",
       "      <th>hotel id</th>\n",
       "      <th>hotel name</th>\n",
       "      <th>Country Code</th>\n",
       "      <th>City</th>\n",
       "      <th>Address</th>\n",
       "      <th>Locality</th>\n",
       "      <th>Locality Verbose</th>\n",
       "      <th>Longitude</th>\n",
       "      <th>Latitude</th>\n",
       "      <th>Cuisines</th>\n",
       "      <th>...</th>\n",
       "      <th>Has Table booking</th>\n",
       "      <th>Has Online delivery</th>\n",
       "      <th>Is delivering now</th>\n",
       "      <th>Switch to order menu</th>\n",
       "      <th>Price range</th>\n",
       "      <th>Aggregate rating</th>\n",
       "      <th>Rating color</th>\n",
       "      <th>Rating text</th>\n",
       "      <th>Votes</th>\n",
       "      <th>categories</th>\n",
       "    </tr>\n",
       "  </thead>\n",
       "  <tbody>\n",
       "    <tr>\n",
       "      <th>0</th>\n",
       "      <td>hotel_558</td>\n",
       "      <td>Sultans of Spice</td>\n",
       "      <td>1</td>\n",
       "      <td>Bangalore</td>\n",
       "      <td>BluPetal Hotel 60 Jyoti Nivas College Road Kor...</td>\n",
       "      <td>BluPetal Hotel Koramangala</td>\n",
       "      <td>BluPetal Hotel Koramangala Bangalore</td>\n",
       "      <td>77.615428</td>\n",
       "      <td>12.933284</td>\n",
       "      <td>North Indian Mughlai</td>\n",
       "      <td>...</td>\n",
       "      <td>Yes</td>\n",
       "      <td>Yes</td>\n",
       "      <td>No</td>\n",
       "      <td>No</td>\n",
       "      <td>3</td>\n",
       "      <td>4.1</td>\n",
       "      <td>Green</td>\n",
       "      <td>Very Good</td>\n",
       "      <td>2416</td>\n",
       "      <td>HotelsHotel</td>\n",
       "    </tr>\n",
       "    <tr>\n",
       "      <th>1</th>\n",
       "      <td>hotel_603</td>\n",
       "      <td>The Fatty Bao - Asian Gastro Bar</td>\n",
       "      <td>1</td>\n",
       "      <td>Bangalore</td>\n",
       "      <td>610 3rd Floor 12th Main Off 80 Feet Road Indir...</td>\n",
       "      <td>Indiranagar</td>\n",
       "      <td>Indiranagar Bangalore</td>\n",
       "      <td>77.645396</td>\n",
       "      <td>12.970221</td>\n",
       "      <td>Asian</td>\n",
       "      <td>...</td>\n",
       "      <td>Yes</td>\n",
       "      <td>Yes</td>\n",
       "      <td>No</td>\n",
       "      <td>No</td>\n",
       "      <td>4</td>\n",
       "      <td>4.7</td>\n",
       "      <td>Dark Green</td>\n",
       "      <td>Excellent</td>\n",
       "      <td>2369</td>\n",
       "      <td>HotelsHotel</td>\n",
       "    </tr>\n",
       "    <tr>\n",
       "      <th>2</th>\n",
       "      <td>hotel_610</td>\n",
       "      <td>Toit</td>\n",
       "      <td>1</td>\n",
       "      <td>Bangalore</td>\n",
       "      <td>298 Namma Metro Pillar 62 100 Feet Road Indira...</td>\n",
       "      <td>Indiranagar</td>\n",
       "      <td>Indiranagar Bangalore</td>\n",
       "      <td>77.640709</td>\n",
       "      <td>12.979166</td>\n",
       "      <td>Italian American Pizza</td>\n",
       "      <td>...</td>\n",
       "      <td>No</td>\n",
       "      <td>No</td>\n",
       "      <td>No</td>\n",
       "      <td>No</td>\n",
       "      <td>4</td>\n",
       "      <td>4.8</td>\n",
       "      <td>Dark Green</td>\n",
       "      <td>Excellent</td>\n",
       "      <td>10934</td>\n",
       "      <td>HotelsHotel</td>\n",
       "    </tr>\n",
       "    <tr>\n",
       "      <th>3</th>\n",
       "      <td>hotel_574</td>\n",
       "      <td>Three Dots &amp; A Dash</td>\n",
       "      <td>1</td>\n",
       "      <td>Bangalore</td>\n",
       "      <td>840/1100 Feet Road Metro Pillar 56-57 Indirana...</td>\n",
       "      <td>Indiranagar</td>\n",
       "      <td>Indiranagar Bangalore</td>\n",
       "      <td>77.640489</td>\n",
       "      <td>12.980410</td>\n",
       "      <td>European Continental</td>\n",
       "      <td>...</td>\n",
       "      <td>Yes</td>\n",
       "      <td>No</td>\n",
       "      <td>No</td>\n",
       "      <td>No</td>\n",
       "      <td>3</td>\n",
       "      <td>3.9</td>\n",
       "      <td>Yellow</td>\n",
       "      <td>Good</td>\n",
       "      <td>1354</td>\n",
       "      <td>HotelsHotel</td>\n",
       "    </tr>\n",
       "    <tr>\n",
       "      <th>4</th>\n",
       "      <td>hotel_570</td>\n",
       "      <td>Bombay Brasserie</td>\n",
       "      <td>1</td>\n",
       "      <td>Bangalore</td>\n",
       "      <td>2989/B 12th Main Road HAL 2nd Stage Indiranaga...</td>\n",
       "      <td>Indiranagar</td>\n",
       "      <td>Indiranagar Bangalore</td>\n",
       "      <td>77.645748</td>\n",
       "      <td>12.970324</td>\n",
       "      <td>Modern Indian</td>\n",
       "      <td>...</td>\n",
       "      <td>No</td>\n",
       "      <td>Yes</td>\n",
       "      <td>No</td>\n",
       "      <td>No</td>\n",
       "      <td>3</td>\n",
       "      <td>4.2</td>\n",
       "      <td>Green</td>\n",
       "      <td>Very Good</td>\n",
       "      <td>231</td>\n",
       "      <td>HotelsHotel</td>\n",
       "    </tr>\n",
       "  </tbody>\n",
       "</table>\n",
       "<p>5 rows × 22 columns</p>\n",
       "</div>"
      ],
      "text/plain": [
       "     hotel id                        hotel name  Country Code       City  \\\n",
       "0   hotel_558                  Sultans of Spice             1  Bangalore   \n",
       "1   hotel_603  The Fatty Bao - Asian Gastro Bar             1  Bangalore   \n",
       "2   hotel_610                              Toit             1  Bangalore   \n",
       "3   hotel_574               Three Dots & A Dash             1  Bangalore   \n",
       "4   hotel_570                  Bombay Brasserie             1  Bangalore   \n",
       "\n",
       "                                             Address  \\\n",
       "0  BluPetal Hotel 60 Jyoti Nivas College Road Kor...   \n",
       "1  610 3rd Floor 12th Main Off 80 Feet Road Indir...   \n",
       "2  298 Namma Metro Pillar 62 100 Feet Road Indira...   \n",
       "3  840/1100 Feet Road Metro Pillar 56-57 Indirana...   \n",
       "4  2989/B 12th Main Road HAL 2nd Stage Indiranaga...   \n",
       "\n",
       "                     Locality                      Locality Verbose  \\\n",
       "0  BluPetal Hotel Koramangala  BluPetal Hotel Koramangala Bangalore   \n",
       "1                 Indiranagar                 Indiranagar Bangalore   \n",
       "2                 Indiranagar                 Indiranagar Bangalore   \n",
       "3                 Indiranagar                 Indiranagar Bangalore   \n",
       "4                 Indiranagar                 Indiranagar Bangalore   \n",
       "\n",
       "   Longitude   Latitude                Cuisines  ...  Has Table booking  \\\n",
       "0  77.615428  12.933284    North Indian Mughlai  ...                Yes   \n",
       "1  77.645396  12.970221                   Asian  ...                Yes   \n",
       "2  77.640709  12.979166  Italian American Pizza  ...                 No   \n",
       "3  77.640489  12.980410    European Continental  ...                Yes   \n",
       "4  77.645748  12.970324           Modern Indian  ...                 No   \n",
       "\n",
       "  Has Online delivery Is delivering now Switch to order menu Price range  \\\n",
       "0                 Yes                No                   No           3   \n",
       "1                 Yes                No                   No           4   \n",
       "2                  No                No                   No           4   \n",
       "3                  No                No                   No           3   \n",
       "4                 Yes                No                   No           3   \n",
       "\n",
       "  Aggregate rating  Rating color  Rating text  Votes   categories  \n",
       "0              4.1         Green    Very Good   2416  HotelsHotel  \n",
       "1              4.7    Dark Green    Excellent   2369  HotelsHotel  \n",
       "2              4.8    Dark Green    Excellent  10934  HotelsHotel  \n",
       "3              3.9        Yellow         Good   1354  HotelsHotel  \n",
       "4              4.2         Green    Very Good    231  HotelsHotel  \n",
       "\n",
       "[5 rows x 22 columns]"
      ]
     },
     "execution_count": 2,
     "metadata": {},
     "output_type": "execute_result"
    }
   ],
   "source": [
    "df=pd.read_excel('new_hotel_data.xlsx')\n",
    "df.head() "
   ]
  },
  {
   "cell_type": "code",
   "execution_count": 3,
   "metadata": {},
   "outputs": [
    {
     "data": {
      "text/plain": [
       "hotel name\n",
       "Sagar Gaire Fast Food                4.9\n",
       "Rae's Coastal Cafe                   4.9\n",
       "Toit                                 4.8\n",
       "The Fatty Bao - Asian Gastro Bar     4.7\n",
       "ECHOES Koramangala                   4.7\n",
       "Truffles                             4.7\n",
       "Sr. Sol 1                            4.6\n",
       "Miyabi Kyoto Japanese Steak House    4.6\n",
       "Flatbread Neapolitan Pizzeria        4.6\n",
       "ABs - Absolute Barbecues             4.6\n",
       "Barbeque Nation                      4.6\n",
       "Bardenay                             4.5\n",
       "Goldy's Breakfast Bistro             4.5\n",
       "Central Perk 7                       4.5\n",
       "The Bee's Knees                      4.5\n",
       "Name: Aggregate rating, dtype: float64"
      ]
     },
     "execution_count": 3,
     "metadata": {},
     "output_type": "execute_result"
    }
   ],
   "source": [
    "#which hotel has highest rating\n",
    "df.groupby('hotel name')['Aggregate rating'].mean().sort_values(ascending=False).head(15)"
   ]
  },
  {
   "cell_type": "code",
   "execution_count": 4,
   "metadata": {},
   "outputs": [
    {
     "data": {
      "text/plain": [
       "Index(['hotel id', 'hotel name', 'Country Code', 'City', 'Address', 'Locality',\n",
       "       'Locality Verbose', 'Longitude', 'Latitude', 'Cuisines',\n",
       "       'Average Cost for two', 'Currency', 'Has Table booking',\n",
       "       'Has Online delivery', 'Is delivering now', 'Switch to order menu',\n",
       "       'Price range', 'Aggregate rating', 'Rating color', 'Rating text',\n",
       "       'Votes', 'categories'],\n",
       "      dtype='object')"
      ]
     },
     "execution_count": 4,
     "metadata": {},
     "output_type": "execute_result"
    }
   ],
   "source": [
    "#columns in the dataset\n",
    "df.columns"
   ]
  },
  {
   "cell_type": "code",
   "execution_count": 5,
   "metadata": {},
   "outputs": [
    {
     "data": {
      "text/plain": [
       "Augusta         20\n",
       "Bangalore       20\n",
       "Bhopal          20\n",
       "Albany          20\n",
       "Bhubaneshwar    20\n",
       "Athens          20\n",
       "Boise            9\n",
       "Armidale         1\n",
       "Name: City, dtype: int64"
      ]
     },
     "execution_count": 5,
     "metadata": {},
     "output_type": "execute_result"
    }
   ],
   "source": [
    "#count of no of hotels in each city\n",
    "df.City.value_counts()"
   ]
  },
  {
   "cell_type": "code",
   "execution_count": 6,
   "metadata": {},
   "outputs": [
    {
     "data": {
      "image/png": "[encoded data removed]",
      "text/plain": [
       "<Figure size 1500x700 with 1 Axes>"
      ]
     },
     "metadata": {
      "needs_background": "light"
     },
     "output_type": "display_data"
    }
   ],
   "source": [
    "#aggregate rating for each city\n",
    "plt.figure(figsize=(15,7), dpi=100)\n",
    "sns.barplot(x='City',y='Aggregate rating',data=df,ci=None)\n",
    "plt.tight_layout()"
   ]
  },
  {
   "cell_type": "code",
   "execution_count": 7,
   "metadata": {},
   "outputs": [
    {
     "data": {
      "image/png": "[encoded data removed]",
      "text/plain": [
       "<Figure size 2700x1260 with 1 Axes>"
      ]
     },
     "metadata": {
      "needs_background": "light"
     },
     "output_type": "display_data"
    }
   ],
   "source": [
    "# more the price range ratings go higher little\n",
    "plt.figure(figsize=(15,7), dpi=180,)\n",
    "b=sns.barplot(x='Price range',y='Aggregate rating',data=df,ci=None)\n"
   ]
  },
  {
   "cell_type": "code",
   "execution_count": 8,
   "metadata": {},
   "outputs": [
    {
     "data": {
      "image/png": "[encoded data removed]",
      "text/plain": [
       "<Figure size 2700x1260 with 1 Axes>"
      ]
     },
     "metadata": {
      "needs_background": "light"
     },
     "output_type": "display_data"
    }
   ],
   "source": [
    "#if it has online deleivery it has good rating\n",
    "plt.figure(figsize=(15,7), dpi=180,)\n",
    "b=sns.barplot(x='Price range',y='Aggregate rating',hue='Has Online delivery',data=df,ci=None)"
   ]
  },
  {
   "cell_type": "code",
   "execution_count": null,
   "metadata": {},
   "outputs": [],
   "source": []
  },
  {
   "cell_type": "code",
   "execution_count": null,
   "metadata": {},
   "outputs": [],
   "source": []
  },
  {
   "cell_type": "code",
   "execution_count": 9,
   "metadata": {},
   "outputs": [
    {
     "data": {
      "text/plain": [
       "<matplotlib.axes._subplots.AxesSubplot at 0x1e0c669feb0>"
      ]
     },
     "execution_count": 9,
     "metadata": {},
     "output_type": "execute_result"
    },
    {
     "data": {
      "image/png": "[encoded data removed]",
      "text/plain": [
       "<Figure size 720x288 with 1 Axes>"
      ]
     },
     "metadata": {
      "needs_background": "light"
     },
     "output_type": "display_data"
    }
   ],
   "source": [
    "#many people have voted at 4.1\n",
    "plt.figure(figsize=(10,4))\n",
    "df['Aggregate rating'].hist(bins=40)"
   ]
  },
  {
   "cell_type": "code",
   "execution_count": 10,
   "metadata": {},
   "outputs": [
    {
     "data": {
      "text/plain": [
       "<seaborn.axisgrid.JointGrid at 0x1e0c67b6400>"
      ]
     },
     "execution_count": 10,
     "metadata": {},
     "output_type": "execute_result"
    },
    {
     "data": {
      "image/png": "[encoded data removed]",
      "text/plain": [
       "<Figure size 432x432 with 3 Axes>"
      ]
     },
     "metadata": {
      "needs_background": "light"
     },
     "output_type": "display_data"
    }
   ],
   "source": [
    "#no of votes for a particular rating\n",
    "sns.jointplot(x='Aggregate rating',y='Votes',data=df)"
   ]
  },
  {
   "cell_type": "markdown",
   "metadata": {},
   "source": [
    "# Rating file data explore\n"
   ]
  },
  {
   "cell_type": "code",
   "execution_count": 11,
   "metadata": {},
   "outputs": [],
   "source": [
    "# Import the dataset and give the column names\n",
    "# columns=['userId', 'productId', 'ratings','timestamp']\n",
    "user_df=pd.read_excel('new_userhotelrating_small.xlsx')"
   ]
  },
  {
   "cell_type": "code",
   "execution_count": 12,
   "metadata": {},
   "outputs": [
    {
     "data": {
      "text/html": [
       "<div>\n",
       "<style scoped>\n",
       "    .dataframe tbody tr th:only-of-type {\n",
       "        vertical-align: middle;\n",
       "    }\n",
       "\n",
       "    .dataframe tbody tr th {\n",
       "        vertical-align: top;\n",
       "    }\n",
       "\n",
       "    .dataframe thead th {\n",
       "        text-align: right;\n",
       "    }\n",
       "</style>\n",
       "<table border=\"1\" class=\"dataframe\">\n",
       "  <thead>\n",
       "    <tr style=\"text-align: right;\">\n",
       "      <th></th>\n",
       "      <th>user</th>\n",
       "      <th>product_code</th>\n",
       "      <th>rating</th>\n",
       "    </tr>\n",
       "  </thead>\n",
       "  <tbody>\n",
       "    <tr>\n",
       "      <th>0</th>\n",
       "      <td>user_78131</td>\n",
       "      <td>hotel_558</td>\n",
       "      <td>3</td>\n",
       "    </tr>\n",
       "    <tr>\n",
       "      <th>1</th>\n",
       "      <td>user_78131</td>\n",
       "      <td>hotel_603</td>\n",
       "      <td>2</td>\n",
       "    </tr>\n",
       "    <tr>\n",
       "      <th>2</th>\n",
       "      <td>user_78131</td>\n",
       "      <td>hotel_610</td>\n",
       "      <td>3</td>\n",
       "    </tr>\n",
       "    <tr>\n",
       "      <th>3</th>\n",
       "      <td>user_78131</td>\n",
       "      <td>hotel_574</td>\n",
       "      <td>3</td>\n",
       "    </tr>\n",
       "    <tr>\n",
       "      <th>4</th>\n",
       "      <td>user_78131</td>\n",
       "      <td>hotel_570</td>\n",
       "      <td>3</td>\n",
       "    </tr>\n",
       "  </tbody>\n",
       "</table>\n",
       "</div>"
      ],
      "text/plain": [
       "         user product_code  rating\n",
       "0  user_78131    hotel_558       3\n",
       "1  user_78131    hotel_603       2\n",
       "2  user_78131    hotel_610       3\n",
       "3  user_78131    hotel_574       3\n",
       "4  user_78131    hotel_570       3"
      ]
     },
     "execution_count": 12,
     "metadata": {},
     "output_type": "execute_result"
    }
   ],
   "source": [
    "user_df.head()"
   ]
  },
  {
   "cell_type": "code",
   "execution_count": 13,
   "metadata": {},
   "outputs": [
    {
     "data": {
      "text/plain": [
       "(49999, 3)"
      ]
     },
     "execution_count": 13,
     "metadata": {},
     "output_type": "execute_result"
    }
   ],
   "source": [
    "user_df.shape"
   ]
  },
  {
   "cell_type": "code",
   "execution_count": 14,
   "metadata": {},
   "outputs": [
    {
     "name": "stdout",
     "output_type": "stream",
     "text": [
      "Number of rows:  49999\n",
      "Number of columns:  3\n"
     ]
    }
   ],
   "source": [
    "#Check the number of rows and columns\n",
    "rows,columns = user_df.shape\n",
    "print('Number of rows: ',rows)\n",
    "print('Number of columns: ',columns)"
   ]
  },
  {
   "cell_type": "code",
   "execution_count": 15,
   "metadata": {},
   "outputs": [
    {
     "data": {
      "text/plain": [
       "user            object\n",
       "product_code    object\n",
       "rating           int64\n",
       "dtype: object"
      ]
     },
     "execution_count": 15,
     "metadata": {},
     "output_type": "execute_result"
    }
   ],
   "source": [
    "#Check the datatypes\n",
    "user_df.dtypes"
   ]
  },
  {
   "cell_type": "code",
   "execution_count": 16,
   "metadata": {},
   "outputs": [
    {
     "data": {
      "text/plain": [
       "count    49999.000000\n",
       "mean         3.276046\n",
       "std          1.111922\n",
       "min          1.000000\n",
       "25%          3.000000\n",
       "50%          3.000000\n",
       "75%          4.000000\n",
       "max          5.000000\n",
       "Name: rating, dtype: float64"
      ]
     },
     "execution_count": 16,
     "metadata": {},
     "output_type": "execute_result"
    }
   ],
   "source": [
    "#Summary statistics of rating variable\n",
    "user_df['rating'].describe().transpose()"
   ]
  },
  {
   "cell_type": "code",
   "execution_count": 17,
   "metadata": {},
   "outputs": [
    {
     "name": "stdout",
     "output_type": "stream",
     "text": [
      "Minimum rating is: 1\n",
      "Maximum rating is: 5\n"
     ]
    }
   ],
   "source": [
    "#Find the minimum and maximum ratings\n",
    "\n",
    "print('Minimum rating is: %d' %(user_df.rating.min()))\n",
    "print('Maximum rating is: %d' %(user_df.rating.max()))"
   ]
  },
  {
   "cell_type": "code",
   "execution_count": 18,
   "metadata": {},
   "outputs": [],
   "source": [
    "user_df = user_df.dropna()"
   ]
  },
  {
   "cell_type": "code",
   "execution_count": 19,
   "metadata": {},
   "outputs": [
    {
     "name": "stdout",
     "output_type": "stream",
     "text": [
      "Number of missing values across columns: \n",
      " user            0\n",
      "product_code    0\n",
      "rating          0\n",
      "dtype: int64\n"
     ]
    }
   ],
   "source": [
    "#Check for missing values\n",
    "print('Number of missing values across columns: \\n',user_df.isnull().sum())"
   ]
  },
  {
   "cell_type": "code",
   "execution_count": 20,
   "metadata": {},
   "outputs": [
    {
     "name": "stdout",
     "output_type": "stream",
     "text": [
      "Number of unique users in Raw data =  915\n",
      "Number of unique hotels in Raw data =  130\n"
     ]
    }
   ],
   "source": [
    "# Number of unique user id  in the data\n",
    "print('Number of unique users in Raw data = ', user_df['user'].nunique())\n",
    "# Number of unique product id  in the data\n",
    "print('Number of unique hotels in Raw data = ', user_df['product_code'].nunique())"
   ]
  },
  {
   "cell_type": "code",
   "execution_count": 21,
   "metadata": {},
   "outputs": [
    {
     "name": "stdout",
     "output_type": "stream",
     "text": [
      "Top 10 users based on ratings: \n",
      " user\n",
      "user_42069    69\n",
      "user_56548    67\n",
      "user_60087    67\n",
      "user_60192    65\n",
      "user_62269    64\n",
      "user_75963    64\n",
      "user_76717    64\n",
      "user_61499    64\n",
      "user_43213    64\n",
      "user_26648    64\n",
      "dtype: int64\n"
     ]
    }
   ],
   "source": [
    "#Check the top 10 users based on ratings\n",
    "most_rated = user_df.groupby('user').size().sort_values(ascending=False)[:10]\n",
    "print('Top 10 users based on ratings: \\n',most_rated)"
   ]
  },
  {
   "cell_type": "code",
   "execution_count": 22,
   "metadata": {},
   "outputs": [],
   "source": [
    "counts = user_df.user.value_counts()"
   ]
  },
  {
   "cell_type": "code",
   "execution_count": 23,
   "metadata": {},
   "outputs": [],
   "source": [
    "user_df_final = user_df[user_df.user.isin(counts[counts>=2].index)]"
   ]
  },
  {
   "cell_type": "code",
   "execution_count": 24,
   "metadata": {},
   "outputs": [
    {
     "name": "stdout",
     "output_type": "stream",
     "text": [
      "Number of users who have rated 50 or more hotels = 49999\n",
      "Number of unique users in the final data =  915\n",
      "Number of unique Hotels in the final data =  130\n"
     ]
    }
   ],
   "source": [
    "print('Number of users who have rated 50 or more hotels =', len(user_df_final))\n",
    "print('Number of unique users in the final data = ', user_df_final['user'].nunique())\n",
    "print('Number of unique Hotels in the final data = ', user_df_final['product_code'].nunique())"
   ]
  },
  {
   "cell_type": "code",
   "execution_count": 25,
   "metadata": {},
   "outputs": [
    {
     "data": {
      "text/plain": [
       "(49999, 3)"
      ]
     },
     "execution_count": 25,
     "metadata": {},
     "output_type": "execute_result"
    }
   ],
   "source": [
    "user_df_final.shape"
   ]
  },
  {
   "cell_type": "code",
   "execution_count": 26,
   "metadata": {},
   "outputs": [],
   "source": [
    "#constructing the pivot table\n",
    "final_ratings_matrix = user_df_final.pivot_table(index='user',columns='product_code',values='rating')\n",
    "# final_ratings_matrix = electronics_df1_final.pivot(index = 'product_code', columns ='user', values = 'rating').fillna(0)"
   ]
  },
  {
   "cell_type": "code",
   "execution_count": 27,
   "metadata": {},
   "outputs": [
    {
     "data": {
      "text/html": [
       "<div>\n",
       "<style scoped>\n",
       "    .dataframe tbody tr th:only-of-type {\n",
       "        vertical-align: middle;\n",
       "    }\n",
       "\n",
       "    .dataframe tbody tr th {\n",
       "        vertical-align: top;\n",
       "    }\n",
       "\n",
       "    .dataframe thead th {\n",
       "        text-align: right;\n",
       "    }\n",
       "</style>\n",
       "<table border=\"1\" class=\"dataframe\">\n",
       "  <thead>\n",
       "    <tr style=\"text-align: right;\">\n",
       "      <th>product_code</th>\n",
       "      <th>hotel_501</th>\n",
       "      <th>hotel_502</th>\n",
       "      <th>hotel_503</th>\n",
       "      <th>hotel_504</th>\n",
       "      <th>hotel_506</th>\n",
       "      <th>hotel_507</th>\n",
       "      <th>hotel_508</th>\n",
       "      <th>hotel_509</th>\n",
       "      <th>hotel_510</th>\n",
       "      <th>hotel_511</th>\n",
       "      <th>...</th>\n",
       "      <th>hotel_630</th>\n",
       "      <th>hotel_631</th>\n",
       "      <th>hotel_632</th>\n",
       "      <th>hotel_633</th>\n",
       "      <th>hotel_634</th>\n",
       "      <th>hotel_635</th>\n",
       "      <th>hotel_636</th>\n",
       "      <th>hotel_637</th>\n",
       "      <th>hotel_639</th>\n",
       "      <th>hotel_640</th>\n",
       "    </tr>\n",
       "    <tr>\n",
       "      <th>user</th>\n",
       "      <th></th>\n",
       "      <th></th>\n",
       "      <th></th>\n",
       "      <th></th>\n",
       "      <th></th>\n",
       "      <th></th>\n",
       "      <th></th>\n",
       "      <th></th>\n",
       "      <th></th>\n",
       "      <th></th>\n",
       "      <th></th>\n",
       "      <th></th>\n",
       "      <th></th>\n",
       "      <th></th>\n",
       "      <th></th>\n",
       "      <th></th>\n",
       "      <th></th>\n",
       "      <th></th>\n",
       "      <th></th>\n",
       "      <th></th>\n",
       "      <th></th>\n",
       "    </tr>\n",
       "  </thead>\n",
       "  <tbody>\n",
       "    <tr>\n",
       "      <th>user_21002</th>\n",
       "      <td>NaN</td>\n",
       "      <td>3.0</td>\n",
       "      <td>NaN</td>\n",
       "      <td>3.0</td>\n",
       "      <td>3.0</td>\n",
       "      <td>NaN</td>\n",
       "      <td>4.0</td>\n",
       "      <td>NaN</td>\n",
       "      <td>3.0</td>\n",
       "      <td>NaN</td>\n",
       "      <td>...</td>\n",
       "      <td>4.0</td>\n",
       "      <td>NaN</td>\n",
       "      <td>NaN</td>\n",
       "      <td>3.0</td>\n",
       "      <td>NaN</td>\n",
       "      <td>NaN</td>\n",
       "      <td>NaN</td>\n",
       "      <td>3.0</td>\n",
       "      <td>NaN</td>\n",
       "      <td>NaN</td>\n",
       "    </tr>\n",
       "    <tr>\n",
       "      <th>user_21025</th>\n",
       "      <td>NaN</td>\n",
       "      <td>NaN</td>\n",
       "      <td>NaN</td>\n",
       "      <td>2.0</td>\n",
       "      <td>NaN</td>\n",
       "      <td>NaN</td>\n",
       "      <td>NaN</td>\n",
       "      <td>3.0</td>\n",
       "      <td>3.0</td>\n",
       "      <td>2.0</td>\n",
       "      <td>...</td>\n",
       "      <td>NaN</td>\n",
       "      <td>2.0</td>\n",
       "      <td>NaN</td>\n",
       "      <td>NaN</td>\n",
       "      <td>4.0</td>\n",
       "      <td>2.0</td>\n",
       "      <td>NaN</td>\n",
       "      <td>NaN</td>\n",
       "      <td>3.0</td>\n",
       "      <td>3.0</td>\n",
       "    </tr>\n",
       "    <tr>\n",
       "      <th>user_21042</th>\n",
       "      <td>NaN</td>\n",
       "      <td>NaN</td>\n",
       "      <td>NaN</td>\n",
       "      <td>NaN</td>\n",
       "      <td>4.0</td>\n",
       "      <td>NaN</td>\n",
       "      <td>3.0</td>\n",
       "      <td>NaN</td>\n",
       "      <td>3.0</td>\n",
       "      <td>NaN</td>\n",
       "      <td>...</td>\n",
       "      <td>NaN</td>\n",
       "      <td>NaN</td>\n",
       "      <td>2.0</td>\n",
       "      <td>NaN</td>\n",
       "      <td>NaN</td>\n",
       "      <td>NaN</td>\n",
       "      <td>2.0</td>\n",
       "      <td>NaN</td>\n",
       "      <td>2.0</td>\n",
       "      <td>NaN</td>\n",
       "    </tr>\n",
       "    <tr>\n",
       "      <th>user_21051</th>\n",
       "      <td>NaN</td>\n",
       "      <td>2.0</td>\n",
       "      <td>5.0</td>\n",
       "      <td>NaN</td>\n",
       "      <td>5.0</td>\n",
       "      <td>NaN</td>\n",
       "      <td>NaN</td>\n",
       "      <td>NaN</td>\n",
       "      <td>NaN</td>\n",
       "      <td>NaN</td>\n",
       "      <td>...</td>\n",
       "      <td>5.0</td>\n",
       "      <td>5.0</td>\n",
       "      <td>NaN</td>\n",
       "      <td>NaN</td>\n",
       "      <td>5.0</td>\n",
       "      <td>5.0</td>\n",
       "      <td>5.0</td>\n",
       "      <td>5.0</td>\n",
       "      <td>NaN</td>\n",
       "      <td>5.0</td>\n",
       "    </tr>\n",
       "    <tr>\n",
       "      <th>user_21054</th>\n",
       "      <td>NaN</td>\n",
       "      <td>1.0</td>\n",
       "      <td>NaN</td>\n",
       "      <td>1.0</td>\n",
       "      <td>NaN</td>\n",
       "      <td>3.0</td>\n",
       "      <td>4.0</td>\n",
       "      <td>2.0</td>\n",
       "      <td>NaN</td>\n",
       "      <td>4.0</td>\n",
       "      <td>...</td>\n",
       "      <td>4.0</td>\n",
       "      <td>NaN</td>\n",
       "      <td>NaN</td>\n",
       "      <td>NaN</td>\n",
       "      <td>3.0</td>\n",
       "      <td>2.0</td>\n",
       "      <td>1.0</td>\n",
       "      <td>2.0</td>\n",
       "      <td>4.0</td>\n",
       "      <td>4.0</td>\n",
       "    </tr>\n",
       "  </tbody>\n",
       "</table>\n",
       "<p>5 rows × 130 columns</p>\n",
       "</div>"
      ],
      "text/plain": [
       "product_code  hotel_501  hotel_502  hotel_503  hotel_504  hotel_506  \\\n",
       "user                                                                  \n",
       "user_21002          NaN        3.0        NaN        3.0        3.0   \n",
       "user_21025          NaN        NaN        NaN        2.0        NaN   \n",
       "user_21042          NaN        NaN        NaN        NaN        4.0   \n",
       "user_21051          NaN        2.0        5.0        NaN        5.0   \n",
       "user_21054          NaN        1.0        NaN        1.0        NaN   \n",
       "\n",
       "product_code  hotel_507  hotel_508  hotel_509  hotel_510  hotel_511  ...  \\\n",
       "user                                                                 ...   \n",
       "user_21002          NaN        4.0        NaN        3.0        NaN  ...   \n",
       "user_21025          NaN        NaN        3.0        3.0        2.0  ...   \n",
       "user_21042          NaN        3.0        NaN        3.0        NaN  ...   \n",
       "user_21051          NaN        NaN        NaN        NaN        NaN  ...   \n",
       "user_21054          3.0        4.0        2.0        NaN        4.0  ...   \n",
       "\n",
       "product_code  hotel_630  hotel_631  hotel_632  hotel_633  hotel_634  \\\n",
       "user                                                                  \n",
       "user_21002          4.0        NaN        NaN        3.0        NaN   \n",
       "user_21025          NaN        2.0        NaN        NaN        4.0   \n",
       "user_21042          NaN        NaN        2.0        NaN        NaN   \n",
       "user_21051          5.0        5.0        NaN        NaN        5.0   \n",
       "user_21054          4.0        NaN        NaN        NaN        3.0   \n",
       "\n",
       "product_code  hotel_635  hotel_636  hotel_637  hotel_639  hotel_640  \n",
       "user                                                                 \n",
       "user_21002          NaN        NaN        3.0        NaN        NaN  \n",
       "user_21025          2.0        NaN        NaN        3.0        3.0  \n",
       "user_21042          NaN        2.0        NaN        2.0        NaN  \n",
       "user_21051          5.0        5.0        5.0        NaN        5.0  \n",
       "user_21054          2.0        1.0        2.0        4.0        4.0  \n",
       "\n",
       "[5 rows x 130 columns]"
      ]
     },
     "execution_count": 27,
     "metadata": {},
     "output_type": "execute_result"
    }
   ],
   "source": [
    "final_ratings_matrix.head()"
   ]
  },
  {
   "cell_type": "code",
   "execution_count": 28,
   "metadata": {},
   "outputs": [
    {
     "name": "stdout",
     "output_type": "stream",
     "text": [
      "Shape of final_ratings_matrix:  (915, 130)\n"
     ]
    }
   ],
   "source": [
    "print('Shape of final_ratings_matrix: ', final_ratings_matrix.shape)"
   ]
  },
  {
   "cell_type": "code",
   "execution_count": 29,
   "metadata": {},
   "outputs": [],
   "source": [
    "train_data = user_df_final"
   ]
  },
  {
   "cell_type": "markdown",
   "metadata": {},
   "source": [
    "#  Building Collaborative Filtering recommender model.\n"
   ]
  },
  {
   "cell_type": "code",
   "execution_count": 30,
   "metadata": {},
   "outputs": [
    {
     "data": {
      "text/html": [
       "<div>\n",
       "<style scoped>\n",
       "    .dataframe tbody tr th:only-of-type {\n",
       "        vertical-align: middle;\n",
       "    }\n",
       "\n",
       "    .dataframe tbody tr th {\n",
       "        vertical-align: top;\n",
       "    }\n",
       "\n",
       "    .dataframe thead th {\n",
       "        text-align: right;\n",
       "    }\n",
       "</style>\n",
       "<table border=\"1\" class=\"dataframe\">\n",
       "  <thead>\n",
       "    <tr style=\"text-align: right;\">\n",
       "      <th></th>\n",
       "      <th>user</th>\n",
       "      <th>product_code</th>\n",
       "      <th>rating</th>\n",
       "    </tr>\n",
       "  </thead>\n",
       "  <tbody>\n",
       "    <tr>\n",
       "      <th>0</th>\n",
       "      <td>user_78131</td>\n",
       "      <td>hotel_558</td>\n",
       "      <td>3</td>\n",
       "    </tr>\n",
       "    <tr>\n",
       "      <th>1</th>\n",
       "      <td>user_78131</td>\n",
       "      <td>hotel_603</td>\n",
       "      <td>2</td>\n",
       "    </tr>\n",
       "    <tr>\n",
       "      <th>2</th>\n",
       "      <td>user_78131</td>\n",
       "      <td>hotel_610</td>\n",
       "      <td>3</td>\n",
       "    </tr>\n",
       "    <tr>\n",
       "      <th>3</th>\n",
       "      <td>user_78131</td>\n",
       "      <td>hotel_574</td>\n",
       "      <td>3</td>\n",
       "    </tr>\n",
       "    <tr>\n",
       "      <th>4</th>\n",
       "      <td>user_78131</td>\n",
       "      <td>hotel_570</td>\n",
       "      <td>3</td>\n",
       "    </tr>\n",
       "  </tbody>\n",
       "</table>\n",
       "</div>"
      ],
      "text/plain": [
       "         user product_code  rating\n",
       "0  user_78131    hotel_558       3\n",
       "1  user_78131    hotel_603       2\n",
       "2  user_78131    hotel_610       3\n",
       "3  user_78131    hotel_574       3\n",
       "4  user_78131    hotel_570       3"
      ]
     },
     "execution_count": 30,
     "metadata": {},
     "output_type": "execute_result"
    }
   ],
   "source": [
    "user_df_CF = train_data\n",
    "user_df_CF.head()"
   ]
  },
  {
   "cell_type": "code",
   "execution_count": 31,
   "metadata": {},
   "outputs": [],
   "source": [
    "# Matrix with row per 'user' and column per 'item' \n",
    "pivot_df = user_df_CF.pivot_table(index = 'user', columns ='product_code', values = 'rating').fillna(0)"
   ]
  },
  {
   "cell_type": "code",
   "execution_count": 32,
   "metadata": {},
   "outputs": [
    {
     "data": {
      "text/html": [
       "<div>\n",
       "<style scoped>\n",
       "    .dataframe tbody tr th:only-of-type {\n",
       "        vertical-align: middle;\n",
       "    }\n",
       "\n",
       "    .dataframe tbody tr th {\n",
       "        vertical-align: top;\n",
       "    }\n",
       "\n",
       "    .dataframe thead th {\n",
       "        text-align: right;\n",
       "    }\n",
       "</style>\n",
       "<table border=\"1\" class=\"dataframe\">\n",
       "  <thead>\n",
       "    <tr style=\"text-align: right;\">\n",
       "      <th>product_code</th>\n",
       "      <th>hotel_501</th>\n",
       "      <th>hotel_502</th>\n",
       "      <th>hotel_503</th>\n",
       "      <th>hotel_504</th>\n",
       "      <th>hotel_506</th>\n",
       "      <th>hotel_507</th>\n",
       "      <th>hotel_508</th>\n",
       "      <th>hotel_509</th>\n",
       "      <th>hotel_510</th>\n",
       "      <th>hotel_511</th>\n",
       "      <th>...</th>\n",
       "      <th>hotel_630</th>\n",
       "      <th>hotel_631</th>\n",
       "      <th>hotel_632</th>\n",
       "      <th>hotel_633</th>\n",
       "      <th>hotel_634</th>\n",
       "      <th>hotel_635</th>\n",
       "      <th>hotel_636</th>\n",
       "      <th>hotel_637</th>\n",
       "      <th>hotel_639</th>\n",
       "      <th>hotel_640</th>\n",
       "    </tr>\n",
       "    <tr>\n",
       "      <th>user</th>\n",
       "      <th></th>\n",
       "      <th></th>\n",
       "      <th></th>\n",
       "      <th></th>\n",
       "      <th></th>\n",
       "      <th></th>\n",
       "      <th></th>\n",
       "      <th></th>\n",
       "      <th></th>\n",
       "      <th></th>\n",
       "      <th></th>\n",
       "      <th></th>\n",
       "      <th></th>\n",
       "      <th></th>\n",
       "      <th></th>\n",
       "      <th></th>\n",
       "      <th></th>\n",
       "      <th></th>\n",
       "      <th></th>\n",
       "      <th></th>\n",
       "      <th></th>\n",
       "    </tr>\n",
       "  </thead>\n",
       "  <tbody>\n",
       "    <tr>\n",
       "      <th>user_21002</th>\n",
       "      <td>0.0</td>\n",
       "      <td>3.0</td>\n",
       "      <td>0.0</td>\n",
       "      <td>3.0</td>\n",
       "      <td>3.0</td>\n",
       "      <td>0.0</td>\n",
       "      <td>4.0</td>\n",
       "      <td>0.0</td>\n",
       "      <td>3.0</td>\n",
       "      <td>0.0</td>\n",
       "      <td>...</td>\n",
       "      <td>4.0</td>\n",
       "      <td>0.0</td>\n",
       "      <td>0.0</td>\n",
       "      <td>3.0</td>\n",
       "      <td>0.0</td>\n",
       "      <td>0.0</td>\n",
       "      <td>0.0</td>\n",
       "      <td>3.0</td>\n",
       "      <td>0.0</td>\n",
       "      <td>0.0</td>\n",
       "    </tr>\n",
       "    <tr>\n",
       "      <th>user_21025</th>\n",
       "      <td>0.0</td>\n",
       "      <td>0.0</td>\n",
       "      <td>0.0</td>\n",
       "      <td>2.0</td>\n",
       "      <td>0.0</td>\n",
       "      <td>0.0</td>\n",
       "      <td>0.0</td>\n",
       "      <td>3.0</td>\n",
       "      <td>3.0</td>\n",
       "      <td>2.0</td>\n",
       "      <td>...</td>\n",
       "      <td>0.0</td>\n",
       "      <td>2.0</td>\n",
       "      <td>0.0</td>\n",
       "      <td>0.0</td>\n",
       "      <td>4.0</td>\n",
       "      <td>2.0</td>\n",
       "      <td>0.0</td>\n",
       "      <td>0.0</td>\n",
       "      <td>3.0</td>\n",
       "      <td>3.0</td>\n",
       "    </tr>\n",
       "    <tr>\n",
       "      <th>user_21042</th>\n",
       "      <td>0.0</td>\n",
       "      <td>0.0</td>\n",
       "      <td>0.0</td>\n",
       "      <td>0.0</td>\n",
       "      <td>4.0</td>\n",
       "      <td>0.0</td>\n",
       "      <td>3.0</td>\n",
       "      <td>0.0</td>\n",
       "      <td>3.0</td>\n",
       "      <td>0.0</td>\n",
       "      <td>...</td>\n",
       "      <td>0.0</td>\n",
       "      <td>0.0</td>\n",
       "      <td>2.0</td>\n",
       "      <td>0.0</td>\n",
       "      <td>0.0</td>\n",
       "      <td>0.0</td>\n",
       "      <td>2.0</td>\n",
       "      <td>0.0</td>\n",
       "      <td>2.0</td>\n",
       "      <td>0.0</td>\n",
       "    </tr>\n",
       "    <tr>\n",
       "      <th>user_21051</th>\n",
       "      <td>0.0</td>\n",
       "      <td>2.0</td>\n",
       "      <td>5.0</td>\n",
       "      <td>0.0</td>\n",
       "      <td>5.0</td>\n",
       "      <td>0.0</td>\n",
       "      <td>0.0</td>\n",
       "      <td>0.0</td>\n",
       "      <td>0.0</td>\n",
       "      <td>0.0</td>\n",
       "      <td>...</td>\n",
       "      <td>5.0</td>\n",
       "      <td>5.0</td>\n",
       "      <td>0.0</td>\n",
       "      <td>0.0</td>\n",
       "      <td>5.0</td>\n",
       "      <td>5.0</td>\n",
       "      <td>5.0</td>\n",
       "      <td>5.0</td>\n",
       "      <td>0.0</td>\n",
       "      <td>5.0</td>\n",
       "    </tr>\n",
       "    <tr>\n",
       "      <th>user_21054</th>\n",
       "      <td>0.0</td>\n",
       "      <td>1.0</td>\n",
       "      <td>0.0</td>\n",
       "      <td>1.0</td>\n",
       "      <td>0.0</td>\n",
       "      <td>3.0</td>\n",
       "      <td>4.0</td>\n",
       "      <td>2.0</td>\n",
       "      <td>0.0</td>\n",
       "      <td>4.0</td>\n",
       "      <td>...</td>\n",
       "      <td>4.0</td>\n",
       "      <td>0.0</td>\n",
       "      <td>0.0</td>\n",
       "      <td>0.0</td>\n",
       "      <td>3.0</td>\n",
       "      <td>2.0</td>\n",
       "      <td>1.0</td>\n",
       "      <td>2.0</td>\n",
       "      <td>4.0</td>\n",
       "      <td>4.0</td>\n",
       "    </tr>\n",
       "  </tbody>\n",
       "</table>\n",
       "<p>5 rows × 130 columns</p>\n",
       "</div>"
      ],
      "text/plain": [
       "product_code  hotel_501  hotel_502  hotel_503  hotel_504  hotel_506  \\\n",
       "user                                                                  \n",
       "user_21002          0.0        3.0        0.0        3.0        3.0   \n",
       "user_21025          0.0        0.0        0.0        2.0        0.0   \n",
       "user_21042          0.0        0.0        0.0        0.0        4.0   \n",
       "user_21051          0.0        2.0        5.0        0.0        5.0   \n",
       "user_21054          0.0        1.0        0.0        1.0        0.0   \n",
       "\n",
       "product_code  hotel_507  hotel_508  hotel_509  hotel_510  hotel_511  ...  \\\n",
       "user                                                                 ...   \n",
       "user_21002          0.0        4.0        0.0        3.0        0.0  ...   \n",
       "user_21025          0.0        0.0        3.0        3.0        2.0  ...   \n",
       "user_21042          0.0        3.0        0.0        3.0        0.0  ...   \n",
       "user_21051          0.0        0.0        0.0        0.0        0.0  ...   \n",
       "user_21054          3.0        4.0        2.0        0.0        4.0  ...   \n",
       "\n",
       "product_code  hotel_630  hotel_631  hotel_632  hotel_633  hotel_634  \\\n",
       "user                                                                  \n",
       "user_21002          4.0        0.0        0.0        3.0        0.0   \n",
       "user_21025          0.0        2.0        0.0        0.0        4.0   \n",
       "user_21042          0.0        0.0        2.0        0.0        0.0   \n",
       "user_21051          5.0        5.0        0.0        0.0        5.0   \n",
       "user_21054          4.0        0.0        0.0        0.0        3.0   \n",
       "\n",
       "product_code  hotel_635  hotel_636  hotel_637  hotel_639  hotel_640  \n",
       "user                                                                 \n",
       "user_21002          0.0        0.0        3.0        0.0        0.0  \n",
       "user_21025          2.0        0.0        0.0        3.0        3.0  \n",
       "user_21042          0.0        2.0        0.0        2.0        0.0  \n",
       "user_21051          5.0        5.0        5.0        0.0        5.0  \n",
       "user_21054          2.0        1.0        2.0        4.0        4.0  \n",
       "\n",
       "[5 rows x 130 columns]"
      ]
     },
     "execution_count": 32,
     "metadata": {},
     "output_type": "execute_result"
    }
   ],
   "source": [
    "pivot_df.head()"
   ]
  },
  {
   "cell_type": "code",
   "execution_count": 33,
   "metadata": {},
   "outputs": [],
   "source": [
    "#pivot_df.to_excel('user.xlsx')"
   ]
  },
  {
   "cell_type": "code",
   "execution_count": 34,
   "metadata": {},
   "outputs": [
    {
     "data": {
      "text/plain": [
       "(915, 130)"
      ]
     },
     "execution_count": 34,
     "metadata": {},
     "output_type": "execute_result"
    }
   ],
   "source": [
    "pivot_df.shape"
   ]
  },
  {
   "cell_type": "code",
   "execution_count": 35,
   "metadata": {},
   "outputs": [
    {
     "data": {
      "text/html": [
       "<div>\n",
       "<style scoped>\n",
       "    .dataframe tbody tr th:only-of-type {\n",
       "        vertical-align: middle;\n",
       "    }\n",
       "\n",
       "    .dataframe tbody tr th {\n",
       "        vertical-align: top;\n",
       "    }\n",
       "\n",
       "    .dataframe thead th {\n",
       "        text-align: right;\n",
       "    }\n",
       "</style>\n",
       "<table border=\"1\" class=\"dataframe\">\n",
       "  <thead>\n",
       "    <tr style=\"text-align: right;\">\n",
       "      <th>product_code</th>\n",
       "      <th>hotel_501</th>\n",
       "      <th>hotel_502</th>\n",
       "      <th>hotel_503</th>\n",
       "      <th>hotel_504</th>\n",
       "      <th>hotel_506</th>\n",
       "      <th>hotel_507</th>\n",
       "      <th>hotel_508</th>\n",
       "      <th>hotel_509</th>\n",
       "      <th>hotel_510</th>\n",
       "      <th>hotel_511</th>\n",
       "      <th>...</th>\n",
       "      <th>hotel_631</th>\n",
       "      <th>hotel_632</th>\n",
       "      <th>hotel_633</th>\n",
       "      <th>hotel_634</th>\n",
       "      <th>hotel_635</th>\n",
       "      <th>hotel_636</th>\n",
       "      <th>hotel_637</th>\n",
       "      <th>hotel_639</th>\n",
       "      <th>hotel_640</th>\n",
       "      <th>user_index</th>\n",
       "    </tr>\n",
       "    <tr>\n",
       "      <th>user</th>\n",
       "      <th></th>\n",
       "      <th></th>\n",
       "      <th></th>\n",
       "      <th></th>\n",
       "      <th></th>\n",
       "      <th></th>\n",
       "      <th></th>\n",
       "      <th></th>\n",
       "      <th></th>\n",
       "      <th></th>\n",
       "      <th></th>\n",
       "      <th></th>\n",
       "      <th></th>\n",
       "      <th></th>\n",
       "      <th></th>\n",
       "      <th></th>\n",
       "      <th></th>\n",
       "      <th></th>\n",
       "      <th></th>\n",
       "      <th></th>\n",
       "      <th></th>\n",
       "    </tr>\n",
       "  </thead>\n",
       "  <tbody>\n",
       "    <tr>\n",
       "      <th>user_21002</th>\n",
       "      <td>0.0</td>\n",
       "      <td>3.0</td>\n",
       "      <td>0.0</td>\n",
       "      <td>3.0</td>\n",
       "      <td>3.0</td>\n",
       "      <td>0.0</td>\n",
       "      <td>4.0</td>\n",
       "      <td>0.0</td>\n",
       "      <td>3.0</td>\n",
       "      <td>0.0</td>\n",
       "      <td>...</td>\n",
       "      <td>0.0</td>\n",
       "      <td>0.0</td>\n",
       "      <td>3.0</td>\n",
       "      <td>0.0</td>\n",
       "      <td>0.0</td>\n",
       "      <td>0.0</td>\n",
       "      <td>3.0</td>\n",
       "      <td>0.0</td>\n",
       "      <td>0.0</td>\n",
       "      <td>0</td>\n",
       "    </tr>\n",
       "    <tr>\n",
       "      <th>user_21025</th>\n",
       "      <td>0.0</td>\n",
       "      <td>0.0</td>\n",
       "      <td>0.0</td>\n",
       "      <td>2.0</td>\n",
       "      <td>0.0</td>\n",
       "      <td>0.0</td>\n",
       "      <td>0.0</td>\n",
       "      <td>3.0</td>\n",
       "      <td>3.0</td>\n",
       "      <td>2.0</td>\n",
       "      <td>...</td>\n",
       "      <td>2.0</td>\n",
       "      <td>0.0</td>\n",
       "      <td>0.0</td>\n",
       "      <td>4.0</td>\n",
       "      <td>2.0</td>\n",
       "      <td>0.0</td>\n",
       "      <td>0.0</td>\n",
       "      <td>3.0</td>\n",
       "      <td>3.0</td>\n",
       "      <td>1</td>\n",
       "    </tr>\n",
       "    <tr>\n",
       "      <th>user_21042</th>\n",
       "      <td>0.0</td>\n",
       "      <td>0.0</td>\n",
       "      <td>0.0</td>\n",
       "      <td>0.0</td>\n",
       "      <td>4.0</td>\n",
       "      <td>0.0</td>\n",
       "      <td>3.0</td>\n",
       "      <td>0.0</td>\n",
       "      <td>3.0</td>\n",
       "      <td>0.0</td>\n",
       "      <td>...</td>\n",
       "      <td>0.0</td>\n",
       "      <td>2.0</td>\n",
       "      <td>0.0</td>\n",
       "      <td>0.0</td>\n",
       "      <td>0.0</td>\n",
       "      <td>2.0</td>\n",
       "      <td>0.0</td>\n",
       "      <td>2.0</td>\n",
       "      <td>0.0</td>\n",
       "      <td>2</td>\n",
       "    </tr>\n",
       "    <tr>\n",
       "      <th>user_21051</th>\n",
       "      <td>0.0</td>\n",
       "      <td>2.0</td>\n",
       "      <td>5.0</td>\n",
       "      <td>0.0</td>\n",
       "      <td>5.0</td>\n",
       "      <td>0.0</td>\n",
       "      <td>0.0</td>\n",
       "      <td>0.0</td>\n",
       "      <td>0.0</td>\n",
       "      <td>0.0</td>\n",
       "      <td>...</td>\n",
       "      <td>5.0</td>\n",
       "      <td>0.0</td>\n",
       "      <td>0.0</td>\n",
       "      <td>5.0</td>\n",
       "      <td>5.0</td>\n",
       "      <td>5.0</td>\n",
       "      <td>5.0</td>\n",
       "      <td>0.0</td>\n",
       "      <td>5.0</td>\n",
       "      <td>3</td>\n",
       "    </tr>\n",
       "    <tr>\n",
       "      <th>user_21054</th>\n",
       "      <td>0.0</td>\n",
       "      <td>1.0</td>\n",
       "      <td>0.0</td>\n",
       "      <td>1.0</td>\n",
       "      <td>0.0</td>\n",
       "      <td>3.0</td>\n",
       "      <td>4.0</td>\n",
       "      <td>2.0</td>\n",
       "      <td>0.0</td>\n",
       "      <td>4.0</td>\n",
       "      <td>...</td>\n",
       "      <td>0.0</td>\n",
       "      <td>0.0</td>\n",
       "      <td>0.0</td>\n",
       "      <td>3.0</td>\n",
       "      <td>2.0</td>\n",
       "      <td>1.0</td>\n",
       "      <td>2.0</td>\n",
       "      <td>4.0</td>\n",
       "      <td>4.0</td>\n",
       "      <td>4</td>\n",
       "    </tr>\n",
       "  </tbody>\n",
       "</table>\n",
       "<p>5 rows × 131 columns</p>\n",
       "</div>"
      ],
      "text/plain": [
       "product_code  hotel_501  hotel_502  hotel_503  hotel_504  hotel_506  \\\n",
       "user                                                                  \n",
       "user_21002          0.0        3.0        0.0        3.0        3.0   \n",
       "user_21025          0.0        0.0        0.0        2.0        0.0   \n",
       "user_21042          0.0        0.0        0.0        0.0        4.0   \n",
       "user_21051          0.0        2.0        5.0        0.0        5.0   \n",
       "user_21054          0.0        1.0        0.0        1.0        0.0   \n",
       "\n",
       "product_code  hotel_507  hotel_508  hotel_509  hotel_510  hotel_511  ...  \\\n",
       "user                                                                 ...   \n",
       "user_21002          0.0        4.0        0.0        3.0        0.0  ...   \n",
       "user_21025          0.0        0.0        3.0        3.0        2.0  ...   \n",
       "user_21042          0.0        3.0        0.0        3.0        0.0  ...   \n",
       "user_21051          0.0        0.0        0.0        0.0        0.0  ...   \n",
       "user_21054          3.0        4.0        2.0        0.0        4.0  ...   \n",
       "\n",
       "product_code  hotel_631  hotel_632  hotel_633  hotel_634  hotel_635  \\\n",
       "user                                                                  \n",
       "user_21002          0.0        0.0        3.0        0.0        0.0   \n",
       "user_21025          2.0        0.0        0.0        4.0        2.0   \n",
       "user_21042          0.0        2.0        0.0        0.0        0.0   \n",
       "user_21051          5.0        0.0        0.0        5.0        5.0   \n",
       "user_21054          0.0        0.0        0.0        3.0        2.0   \n",
       "\n",
       "product_code  hotel_636  hotel_637  hotel_639  hotel_640  user_index  \n",
       "user                                                                  \n",
       "user_21002          0.0        3.0        0.0        0.0           0  \n",
       "user_21025          0.0        0.0        3.0        3.0           1  \n",
       "user_21042          2.0        0.0        2.0        0.0           2  \n",
       "user_21051          5.0        5.0        0.0        5.0           3  \n",
       "user_21054          1.0        2.0        4.0        4.0           4  \n",
       "\n",
       "[5 rows x 131 columns]"
      ]
     },
     "execution_count": 35,
     "metadata": {},
     "output_type": "execute_result"
    }
   ],
   "source": [
    "#define user index from 0 to 10\n",
    "pivot_df['user_index'] = np.arange(0, pivot_df.shape[0], 1)\n",
    "pivot_df.head()"
   ]
  },
  {
   "cell_type": "code",
   "execution_count": 36,
   "metadata": {},
   "outputs": [
    {
     "data": {
      "text/html": [
       "<div>\n",
       "<style scoped>\n",
       "    .dataframe tbody tr th:only-of-type {\n",
       "        vertical-align: middle;\n",
       "    }\n",
       "\n",
       "    .dataframe tbody tr th {\n",
       "        vertical-align: top;\n",
       "    }\n",
       "\n",
       "    .dataframe thead th {\n",
       "        text-align: right;\n",
       "    }\n",
       "</style>\n",
       "<table border=\"1\" class=\"dataframe\">\n",
       "  <thead>\n",
       "    <tr style=\"text-align: right;\">\n",
       "      <th>product_code</th>\n",
       "      <th>hotel_501</th>\n",
       "      <th>hotel_502</th>\n",
       "      <th>hotel_503</th>\n",
       "      <th>hotel_504</th>\n",
       "      <th>hotel_506</th>\n",
       "      <th>hotel_507</th>\n",
       "      <th>hotel_508</th>\n",
       "      <th>hotel_509</th>\n",
       "      <th>hotel_510</th>\n",
       "      <th>hotel_511</th>\n",
       "      <th>...</th>\n",
       "      <th>hotel_630</th>\n",
       "      <th>hotel_631</th>\n",
       "      <th>hotel_632</th>\n",
       "      <th>hotel_633</th>\n",
       "      <th>hotel_634</th>\n",
       "      <th>hotel_635</th>\n",
       "      <th>hotel_636</th>\n",
       "      <th>hotel_637</th>\n",
       "      <th>hotel_639</th>\n",
       "      <th>hotel_640</th>\n",
       "    </tr>\n",
       "    <tr>\n",
       "      <th>user_index</th>\n",
       "      <th></th>\n",
       "      <th></th>\n",
       "      <th></th>\n",
       "      <th></th>\n",
       "      <th></th>\n",
       "      <th></th>\n",
       "      <th></th>\n",
       "      <th></th>\n",
       "      <th></th>\n",
       "      <th></th>\n",
       "      <th></th>\n",
       "      <th></th>\n",
       "      <th></th>\n",
       "      <th></th>\n",
       "      <th></th>\n",
       "      <th></th>\n",
       "      <th></th>\n",
       "      <th></th>\n",
       "      <th></th>\n",
       "      <th></th>\n",
       "      <th></th>\n",
       "    </tr>\n",
       "  </thead>\n",
       "  <tbody>\n",
       "    <tr>\n",
       "      <th>0</th>\n",
       "      <td>0.0</td>\n",
       "      <td>3.0</td>\n",
       "      <td>0.0</td>\n",
       "      <td>3.0</td>\n",
       "      <td>3.0</td>\n",
       "      <td>0.0</td>\n",
       "      <td>4.0</td>\n",
       "      <td>0.0</td>\n",
       "      <td>3.0</td>\n",
       "      <td>0.0</td>\n",
       "      <td>...</td>\n",
       "      <td>4.0</td>\n",
       "      <td>0.0</td>\n",
       "      <td>0.0</td>\n",
       "      <td>3.0</td>\n",
       "      <td>0.0</td>\n",
       "      <td>0.0</td>\n",
       "      <td>0.0</td>\n",
       "      <td>3.0</td>\n",
       "      <td>0.0</td>\n",
       "      <td>0.0</td>\n",
       "    </tr>\n",
       "    <tr>\n",
       "      <th>1</th>\n",
       "      <td>0.0</td>\n",
       "      <td>0.0</td>\n",
       "      <td>0.0</td>\n",
       "      <td>2.0</td>\n",
       "      <td>0.0</td>\n",
       "      <td>0.0</td>\n",
       "      <td>0.0</td>\n",
       "      <td>3.0</td>\n",
       "      <td>3.0</td>\n",
       "      <td>2.0</td>\n",
       "      <td>...</td>\n",
       "      <td>0.0</td>\n",
       "      <td>2.0</td>\n",
       "      <td>0.0</td>\n",
       "      <td>0.0</td>\n",
       "      <td>4.0</td>\n",
       "      <td>2.0</td>\n",
       "      <td>0.0</td>\n",
       "      <td>0.0</td>\n",
       "      <td>3.0</td>\n",
       "      <td>3.0</td>\n",
       "    </tr>\n",
       "    <tr>\n",
       "      <th>2</th>\n",
       "      <td>0.0</td>\n",
       "      <td>0.0</td>\n",
       "      <td>0.0</td>\n",
       "      <td>0.0</td>\n",
       "      <td>4.0</td>\n",
       "      <td>0.0</td>\n",
       "      <td>3.0</td>\n",
       "      <td>0.0</td>\n",
       "      <td>3.0</td>\n",
       "      <td>0.0</td>\n",
       "      <td>...</td>\n",
       "      <td>0.0</td>\n",
       "      <td>0.0</td>\n",
       "      <td>2.0</td>\n",
       "      <td>0.0</td>\n",
       "      <td>0.0</td>\n",
       "      <td>0.0</td>\n",
       "      <td>2.0</td>\n",
       "      <td>0.0</td>\n",
       "      <td>2.0</td>\n",
       "      <td>0.0</td>\n",
       "    </tr>\n",
       "    <tr>\n",
       "      <th>3</th>\n",
       "      <td>0.0</td>\n",
       "      <td>2.0</td>\n",
       "      <td>5.0</td>\n",
       "      <td>0.0</td>\n",
       "      <td>5.0</td>\n",
       "      <td>0.0</td>\n",
       "      <td>0.0</td>\n",
       "      <td>0.0</td>\n",
       "      <td>0.0</td>\n",
       "      <td>0.0</td>\n",
       "      <td>...</td>\n",
       "      <td>5.0</td>\n",
       "      <td>5.0</td>\n",
       "      <td>0.0</td>\n",
       "      <td>0.0</td>\n",
       "      <td>5.0</td>\n",
       "      <td>5.0</td>\n",
       "      <td>5.0</td>\n",
       "      <td>5.0</td>\n",
       "      <td>0.0</td>\n",
       "      <td>5.0</td>\n",
       "    </tr>\n",
       "    <tr>\n",
       "      <th>4</th>\n",
       "      <td>0.0</td>\n",
       "      <td>1.0</td>\n",
       "      <td>0.0</td>\n",
       "      <td>1.0</td>\n",
       "      <td>0.0</td>\n",
       "      <td>3.0</td>\n",
       "      <td>4.0</td>\n",
       "      <td>2.0</td>\n",
       "      <td>0.0</td>\n",
       "      <td>4.0</td>\n",
       "      <td>...</td>\n",
       "      <td>4.0</td>\n",
       "      <td>0.0</td>\n",
       "      <td>0.0</td>\n",
       "      <td>0.0</td>\n",
       "      <td>3.0</td>\n",
       "      <td>2.0</td>\n",
       "      <td>1.0</td>\n",
       "      <td>2.0</td>\n",
       "      <td>4.0</td>\n",
       "      <td>4.0</td>\n",
       "    </tr>\n",
       "  </tbody>\n",
       "</table>\n",
       "<p>5 rows × 130 columns</p>\n",
       "</div>"
      ],
      "text/plain": [
       "product_code  hotel_501  hotel_502  hotel_503  hotel_504  hotel_506  \\\n",
       "user_index                                                            \n",
       "0                   0.0        3.0        0.0        3.0        3.0   \n",
       "1                   0.0        0.0        0.0        2.0        0.0   \n",
       "2                   0.0        0.0        0.0        0.0        4.0   \n",
       "3                   0.0        2.0        5.0        0.0        5.0   \n",
       "4                   0.0        1.0        0.0        1.0        0.0   \n",
       "\n",
       "product_code  hotel_507  hotel_508  hotel_509  hotel_510  hotel_511  ...  \\\n",
       "user_index                                                           ...   \n",
       "0                   0.0        4.0        0.0        3.0        0.0  ...   \n",
       "1                   0.0        0.0        3.0        3.0        2.0  ...   \n",
       "2                   0.0        3.0        0.0        3.0        0.0  ...   \n",
       "3                   0.0        0.0        0.0        0.0        0.0  ...   \n",
       "4                   3.0        4.0        2.0        0.0        4.0  ...   \n",
       "\n",
       "product_code  hotel_630  hotel_631  hotel_632  hotel_633  hotel_634  \\\n",
       "user_index                                                            \n",
       "0                   4.0        0.0        0.0        3.0        0.0   \n",
       "1                   0.0        2.0        0.0        0.0        4.0   \n",
       "2                   0.0        0.0        2.0        0.0        0.0   \n",
       "3                   5.0        5.0        0.0        0.0        5.0   \n",
       "4                   4.0        0.0        0.0        0.0        3.0   \n",
       "\n",
       "product_code  hotel_635  hotel_636  hotel_637  hotel_639  hotel_640  \n",
       "user_index                                                           \n",
       "0                   0.0        0.0        3.0        0.0        0.0  \n",
       "1                   2.0        0.0        0.0        3.0        3.0  \n",
       "2                   0.0        2.0        0.0        2.0        0.0  \n",
       "3                   5.0        5.0        5.0        0.0        5.0  \n",
       "4                   2.0        1.0        2.0        4.0        4.0  \n",
       "\n",
       "[5 rows x 130 columns]"
      ]
     },
     "execution_count": 36,
     "metadata": {},
     "output_type": "execute_result"
    }
   ],
   "source": [
    "pivot_df.set_index(['user_index'], inplace=True)\n",
    "# Actual ratings given by users\n",
    "pivot_df.head()"
   ]
  },
  {
   "cell_type": "markdown",
   "metadata": {},
   "source": [
    "#### Singular Value Decomposition"
   ]
  },
  {
   "cell_type": "code",
   "execution_count": 37,
   "metadata": {},
   "outputs": [],
   "source": [
    "# # Singular Value Decomposition\n",
    "U, sigma, Vt = svds(pivot_df, k = 10)"
   ]
  },
  {
   "cell_type": "code",
   "execution_count": 38,
   "metadata": {},
   "outputs": [
    {
     "name": "stdout",
     "output_type": "stream",
     "text": [
      "[ 0.00336886 -0.00481977  0.02724786 -0.00988048 -0.03006574 -0.0082276\n",
      " -0.0529998  -0.08528036  0.01632848  0.02420354]\n"
     ]
    }
   ],
   "source": [
    "print(U[0])"
   ]
  },
  {
   "cell_type": "code",
   "execution_count": 39,
   "metadata": {},
   "outputs": [
    {
     "name": "stdout",
     "output_type": "stream",
     "text": [
      "[-0.00892976  0.07252882 -0.06422201 -0.04589672 -0.02305193 -0.05005765\n",
      "  0.14646327 -0.02208458 -0.29647704 -0.07333204  0.01328451 -0.18736778\n",
      " -0.12928206 -0.0022404   0.00894371 -0.00225532  0.00275362 -0.08782401\n",
      "  0.175002    0.03320285  0.02768643  0.01881266  0.08527072  0.0238612\n",
      "  0.05678885  0.17314137 -0.12525301  0.02554032  0.07909906 -0.2268903\n",
      "  0.05608314 -0.12662345  0.06697833 -0.02950276 -0.12007559  0.07283601\n",
      "  0.03457328 -0.01512135  0.01494914 -0.03357764  0.1534601   0.03767127\n",
      "  0.13187125  0.00614832  0.06463269 -0.15918646  0.04958318  0.03786322\n",
      " -0.06272311  0.0587886   0.05519533 -0.02063665 -0.17610424  0.02408624\n",
      " -0.05355719 -0.03656503  0.04096003  0.11721503  0.01034253 -0.03539374\n",
      "  0.00165498  0.02229251 -0.02642307  0.10618789  0.09685811 -0.00650734\n",
      " -0.21819173  0.06500853 -0.15329688  0.13092029  0.04135588  0.04121085\n",
      "  0.03030801  0.02396059  0.00272693 -0.0221022  -0.16702697 -0.00662354\n",
      " -0.00793474 -0.01972084  0.03395334  0.00707872 -0.00569458 -0.01634789\n",
      " -0.19659967  0.01340781  0.05187128 -0.10940335  0.04192937  0.13276925\n",
      " -0.03263026 -0.01857843  0.10537682 -0.22444848  0.08074002  0.09218889\n",
      "  0.08197149  0.03314233  0.05737786 -0.06041125 -0.0865262   0.05572685\n",
      "  0.0394105  -0.01260118  0.04652439  0.00894415  0.08959715  0.04382139\n",
      "  0.13725661 -0.02639081  0.06002646 -0.01394356  0.0626066  -0.04771327\n",
      " -0.02289707  0.05213883  0.01044848 -0.14864101 -0.04008094 -0.03808774\n",
      " -0.05555018  0.10545704  0.02159888  0.12730373 -0.01232647 -0.16239246\n",
      " -0.05135984  0.12077135 -0.06118479 -0.00350364]\n"
     ]
    }
   ],
   "source": [
    "print(Vt[0])"
   ]
  },
  {
   "cell_type": "code",
   "execution_count": 40,
   "metadata": {},
   "outputs": [
    {
     "name": "stdout",
     "output_type": "stream",
     "text": [
      "[ 73.75566859  74.73290633  76.06265562  78.28957093  79.21887661\n",
      "  85.12775982  86.87909513  98.30933295 104.9634753  509.78831084]\n"
     ]
    }
   ],
   "source": [
    "print(sigma)"
   ]
  },
  {
   "cell_type": "code",
   "execution_count": 41,
   "metadata": {},
   "outputs": [
    {
     "name": "stdout",
     "output_type": "stream",
     "text": [
      "Diagonal matrix: \n",
      " [[ 73.75566859   0.           0.           0.           0.\n",
      "    0.           0.           0.           0.           0.        ]\n",
      " [  0.          74.73290633   0.           0.           0.\n",
      "    0.           0.           0.           0.           0.        ]\n",
      " [  0.           0.          76.06265562   0.           0.\n",
      "    0.           0.           0.           0.           0.        ]\n",
      " [  0.           0.           0.          78.28957093   0.\n",
      "    0.           0.           0.           0.           0.        ]\n",
      " [  0.           0.           0.           0.          79.21887661\n",
      "    0.           0.           0.           0.           0.        ]\n",
      " [  0.           0.           0.           0.           0.\n",
      "   85.12775982   0.           0.           0.           0.        ]\n",
      " [  0.           0.           0.           0.           0.\n",
      "    0.          86.87909513   0.           0.           0.        ]\n",
      " [  0.           0.           0.           0.           0.\n",
      "    0.           0.          98.30933295   0.           0.        ]\n",
      " [  0.           0.           0.           0.           0.\n",
      "    0.           0.           0.         104.9634753    0.        ]\n",
      " [  0.           0.           0.           0.           0.\n",
      "    0.           0.           0.           0.         509.78831084]]\n"
     ]
    }
   ],
   "source": [
    "# Construct diagonal array in SVD\n",
    "sigma = np.diag(sigma)\n",
    "print('Diagonal matrix: \\n',sigma)"
   ]
  },
  {
   "cell_type": "code",
   "execution_count": 42,
   "metadata": {},
   "outputs": [
    {
     "data": {
      "text/plain": [
       "10"
      ]
     },
     "execution_count": 42,
     "metadata": {},
     "output_type": "execute_result"
    }
   ],
   "source": [
    "len(sigma)"
   ]
  },
  {
   "cell_type": "code",
   "execution_count": 43,
   "metadata": {},
   "outputs": [
    {
     "data": {
      "text/html": [
       "<div>\n",
       "<style scoped>\n",
       "    .dataframe tbody tr th:only-of-type {\n",
       "        vertical-align: middle;\n",
       "    }\n",
       "\n",
       "    .dataframe tbody tr th {\n",
       "        vertical-align: top;\n",
       "    }\n",
       "\n",
       "    .dataframe thead th {\n",
       "        text-align: right;\n",
       "    }\n",
       "</style>\n",
       "<table border=\"1\" class=\"dataframe\">\n",
       "  <thead>\n",
       "    <tr style=\"text-align: right;\">\n",
       "      <th>product_code</th>\n",
       "      <th>hotel_501</th>\n",
       "      <th>hotel_502</th>\n",
       "      <th>hotel_503</th>\n",
       "      <th>hotel_504</th>\n",
       "      <th>hotel_506</th>\n",
       "      <th>hotel_507</th>\n",
       "      <th>hotel_508</th>\n",
       "      <th>hotel_509</th>\n",
       "      <th>hotel_510</th>\n",
       "      <th>hotel_511</th>\n",
       "      <th>...</th>\n",
       "      <th>hotel_630</th>\n",
       "      <th>hotel_631</th>\n",
       "      <th>hotel_632</th>\n",
       "      <th>hotel_633</th>\n",
       "      <th>hotel_634</th>\n",
       "      <th>hotel_635</th>\n",
       "      <th>hotel_636</th>\n",
       "      <th>hotel_637</th>\n",
       "      <th>hotel_639</th>\n",
       "      <th>hotel_640</th>\n",
       "    </tr>\n",
       "  </thead>\n",
       "  <tbody>\n",
       "    <tr>\n",
       "      <th>0</th>\n",
       "      <td>1.070756</td>\n",
       "      <td>1.055129</td>\n",
       "      <td>0.913887</td>\n",
       "      <td>2.350313</td>\n",
       "      <td>1.611900</td>\n",
       "      <td>1.681639</td>\n",
       "      <td>2.232372</td>\n",
       "      <td>1.388372</td>\n",
       "      <td>1.449810</td>\n",
       "      <td>0.865565</td>\n",
       "      <td>...</td>\n",
       "      <td>1.932463</td>\n",
       "      <td>0.303085</td>\n",
       "      <td>2.589922</td>\n",
       "      <td>1.834359</td>\n",
       "      <td>1.307671</td>\n",
       "      <td>0.624711</td>\n",
       "      <td>1.997044</td>\n",
       "      <td>2.442143</td>\n",
       "      <td>2.697274</td>\n",
       "      <td>0.749062</td>\n",
       "    </tr>\n",
       "    <tr>\n",
       "      <th>1</th>\n",
       "      <td>-0.146098</td>\n",
       "      <td>0.979405</td>\n",
       "      <td>1.874487</td>\n",
       "      <td>1.811388</td>\n",
       "      <td>1.032915</td>\n",
       "      <td>1.895610</td>\n",
       "      <td>0.466344</td>\n",
       "      <td>2.522685</td>\n",
       "      <td>2.338781</td>\n",
       "      <td>1.862192</td>\n",
       "      <td>...</td>\n",
       "      <td>1.174590</td>\n",
       "      <td>1.163152</td>\n",
       "      <td>1.317506</td>\n",
       "      <td>-0.017922</td>\n",
       "      <td>1.544842</td>\n",
       "      <td>1.573352</td>\n",
       "      <td>1.342320</td>\n",
       "      <td>1.370155</td>\n",
       "      <td>1.739326</td>\n",
       "      <td>2.841874</td>\n",
       "    </tr>\n",
       "    <tr>\n",
       "      <th>2</th>\n",
       "      <td>0.044208</td>\n",
       "      <td>-0.106153</td>\n",
       "      <td>0.593722</td>\n",
       "      <td>-0.093189</td>\n",
       "      <td>3.556955</td>\n",
       "      <td>0.442465</td>\n",
       "      <td>3.487013</td>\n",
       "      <td>0.634692</td>\n",
       "      <td>2.195078</td>\n",
       "      <td>1.501089</td>\n",
       "      <td>...</td>\n",
       "      <td>1.924114</td>\n",
       "      <td>-0.076371</td>\n",
       "      <td>3.610589</td>\n",
       "      <td>1.318398</td>\n",
       "      <td>0.310728</td>\n",
       "      <td>0.969673</td>\n",
       "      <td>1.820401</td>\n",
       "      <td>0.962034</td>\n",
       "      <td>2.644631</td>\n",
       "      <td>-0.364440</td>\n",
       "    </tr>\n",
       "    <tr>\n",
       "      <th>3</th>\n",
       "      <td>0.163435</td>\n",
       "      <td>2.571291</td>\n",
       "      <td>4.735362</td>\n",
       "      <td>-0.646526</td>\n",
       "      <td>4.392927</td>\n",
       "      <td>0.677117</td>\n",
       "      <td>0.932994</td>\n",
       "      <td>0.631191</td>\n",
       "      <td>1.769733</td>\n",
       "      <td>-0.008408</td>\n",
       "      <td>...</td>\n",
       "      <td>6.538407</td>\n",
       "      <td>4.522339</td>\n",
       "      <td>0.681591</td>\n",
       "      <td>-0.421798</td>\n",
       "      <td>5.761699</td>\n",
       "      <td>4.301644</td>\n",
       "      <td>4.553078</td>\n",
       "      <td>2.758453</td>\n",
       "      <td>-0.933716</td>\n",
       "      <td>3.924036</td>\n",
       "    </tr>\n",
       "    <tr>\n",
       "      <th>4</th>\n",
       "      <td>-0.042961</td>\n",
       "      <td>1.244347</td>\n",
       "      <td>2.316014</td>\n",
       "      <td>0.677906</td>\n",
       "      <td>0.246026</td>\n",
       "      <td>2.362665</td>\n",
       "      <td>1.478395</td>\n",
       "      <td>1.774115</td>\n",
       "      <td>2.203451</td>\n",
       "      <td>1.314853</td>\n",
       "      <td>...</td>\n",
       "      <td>2.226761</td>\n",
       "      <td>1.590667</td>\n",
       "      <td>1.375852</td>\n",
       "      <td>0.600797</td>\n",
       "      <td>1.699163</td>\n",
       "      <td>1.665485</td>\n",
       "      <td>1.426666</td>\n",
       "      <td>1.868152</td>\n",
       "      <td>1.579439</td>\n",
       "      <td>2.228660</td>\n",
       "    </tr>\n",
       "  </tbody>\n",
       "</table>\n",
       "<p>5 rows × 130 columns</p>\n",
       "</div>"
      ],
      "text/plain": [
       "product_code  hotel_501  hotel_502  hotel_503  hotel_504  hotel_506  \\\n",
       "0              1.070756   1.055129   0.913887   2.350313   1.611900   \n",
       "1             -0.146098   0.979405   1.874487   1.811388   1.032915   \n",
       "2              0.044208  -0.106153   0.593722  -0.093189   3.556955   \n",
       "3              0.163435   2.571291   4.735362  -0.646526   4.392927   \n",
       "4             -0.042961   1.244347   2.316014   0.677906   0.246026   \n",
       "\n",
       "product_code  hotel_507  hotel_508  hotel_509  hotel_510  hotel_511  ...  \\\n",
       "0              1.681639   2.232372   1.388372   1.449810   0.865565  ...   \n",
       "1              1.895610   0.466344   2.522685   2.338781   1.862192  ...   \n",
       "2              0.442465   3.487013   0.634692   2.195078   1.501089  ...   \n",
       "3              0.677117   0.932994   0.631191   1.769733  -0.008408  ...   \n",
       "4              2.362665   1.478395   1.774115   2.203451   1.314853  ...   \n",
       "\n",
       "product_code  hotel_630  hotel_631  hotel_632  hotel_633  hotel_634  \\\n",
       "0              1.932463   0.303085   2.589922   1.834359   1.307671   \n",
       "1              1.174590   1.163152   1.317506  -0.017922   1.544842   \n",
       "2              1.924114  -0.076371   3.610589   1.318398   0.310728   \n",
       "3              6.538407   4.522339   0.681591  -0.421798   5.761699   \n",
       "4              2.226761   1.590667   1.375852   0.600797   1.699163   \n",
       "\n",
       "product_code  hotel_635  hotel_636  hotel_637  hotel_639  hotel_640  \n",
       "0              0.624711   1.997044   2.442143   2.697274   0.749062  \n",
       "1              1.573352   1.342320   1.370155   1.739326   2.841874  \n",
       "2              0.969673   1.820401   0.962034   2.644631  -0.364440  \n",
       "3              4.301644   4.553078   2.758453  -0.933716   3.924036  \n",
       "4              1.665485   1.426666   1.868152   1.579439   2.228660  \n",
       "\n",
       "[5 rows x 130 columns]"
      ]
     },
     "execution_count": 43,
     "metadata": {},
     "output_type": "execute_result"
    }
   ],
   "source": [
    "#Predicted ratings\n",
    "all_user_predicted_ratings = np.dot(np.dot(U, sigma), Vt) \n",
    "\n",
    "# Convert predicted ratings to dataframe\n",
    "preds_df = pd.DataFrame(all_user_predicted_ratings, columns = pivot_df.columns)\n",
    "\n",
    "preds_df.head()"
   ]
  },
  {
   "cell_type": "code",
   "execution_count": null,
   "metadata": {},
   "outputs": [],
   "source": []
  },
  {
   "cell_type": "code",
   "execution_count": null,
   "metadata": {},
   "outputs": [],
   "source": []
  },
  {
   "cell_type": "code",
   "execution_count": null,
   "metadata": {},
   "outputs": [],
   "source": []
  },
  {
   "cell_type": "code",
   "execution_count": null,
   "metadata": {},
   "outputs": [],
   "source": []
  },
  {
   "cell_type": "markdown",
   "metadata": {},
   "source": [
    "# Rmse value"
   ]
  },
  {
   "cell_type": "code",
   "execution_count": 44,
   "metadata": {},
   "outputs": [
    {
     "data": {
      "text/plain": [
       "product_code\n",
       "hotel_501    0.184699\n",
       "hotel_502    1.193443\n",
       "hotel_503    1.485246\n",
       "hotel_504    1.360656\n",
       "hotel_506    1.767213\n",
       "dtype: float64"
      ]
     },
     "execution_count": 44,
     "metadata": {},
     "output_type": "execute_result"
    }
   ],
   "source": [
    "pivot_df.mean().head()"
   ]
  },
  {
   "cell_type": "code",
   "execution_count": 45,
   "metadata": {},
   "outputs": [
    {
     "data": {
      "text/plain": [
       "product_code\n",
       "hotel_501    0.171797\n",
       "hotel_502    1.196647\n",
       "hotel_503    1.491288\n",
       "hotel_504    1.346979\n",
       "hotel_506    1.765580\n",
       "dtype: float64"
      ]
     },
     "execution_count": 45,
     "metadata": {},
     "output_type": "execute_result"
    }
   ],
   "source": [
    "preds_df.mean().head()"
   ]
  },
  {
   "cell_type": "code",
   "execution_count": 46,
   "metadata": {},
   "outputs": [],
   "source": [
    "rmse_df = pd.concat([pivot_df.mean(),preds_df.mean()],axis=1)"
   ]
  },
  {
   "cell_type": "code",
   "execution_count": 47,
   "metadata": {},
   "outputs": [],
   "source": [
    "rmse_df\n",
    "rmse_df.columns = ['Average_actual_ratings','Average_predicted_ratings']"
   ]
  },
  {
   "cell_type": "code",
   "execution_count": 48,
   "metadata": {},
   "outputs": [
    {
     "data": {
      "text/html": [
       "<div>\n",
       "<style scoped>\n",
       "    .dataframe tbody tr th:only-of-type {\n",
       "        vertical-align: middle;\n",
       "    }\n",
       "\n",
       "    .dataframe tbody tr th {\n",
       "        vertical-align: top;\n",
       "    }\n",
       "\n",
       "    .dataframe thead th {\n",
       "        text-align: right;\n",
       "    }\n",
       "</style>\n",
       "<table border=\"1\" class=\"dataframe\">\n",
       "  <thead>\n",
       "    <tr style=\"text-align: right;\">\n",
       "      <th></th>\n",
       "      <th>Average_actual_ratings</th>\n",
       "      <th>Average_predicted_ratings</th>\n",
       "    </tr>\n",
       "    <tr>\n",
       "      <th>product_code</th>\n",
       "      <th></th>\n",
       "      <th></th>\n",
       "    </tr>\n",
       "  </thead>\n",
       "  <tbody>\n",
       "    <tr>\n",
       "      <th>hotel_501</th>\n",
       "      <td>0.184699</td>\n",
       "      <td>0.171797</td>\n",
       "    </tr>\n",
       "    <tr>\n",
       "      <th>hotel_502</th>\n",
       "      <td>1.193443</td>\n",
       "      <td>1.196647</td>\n",
       "    </tr>\n",
       "    <tr>\n",
       "      <th>hotel_503</th>\n",
       "      <td>1.485246</td>\n",
       "      <td>1.491288</td>\n",
       "    </tr>\n",
       "    <tr>\n",
       "      <th>hotel_504</th>\n",
       "      <td>1.360656</td>\n",
       "      <td>1.346979</td>\n",
       "    </tr>\n",
       "    <tr>\n",
       "      <th>hotel_506</th>\n",
       "      <td>1.767213</td>\n",
       "      <td>1.765580</td>\n",
       "    </tr>\n",
       "    <tr>\n",
       "      <th>...</th>\n",
       "      <td>...</td>\n",
       "      <td>...</td>\n",
       "    </tr>\n",
       "    <tr>\n",
       "      <th>hotel_635</th>\n",
       "      <td>1.500546</td>\n",
       "      <td>1.518543</td>\n",
       "    </tr>\n",
       "    <tr>\n",
       "      <th>hotel_636</th>\n",
       "      <td>1.527869</td>\n",
       "      <td>1.531566</td>\n",
       "    </tr>\n",
       "    <tr>\n",
       "      <th>hotel_637</th>\n",
       "      <td>1.628415</td>\n",
       "      <td>1.631681</td>\n",
       "    </tr>\n",
       "    <tr>\n",
       "      <th>hotel_639</th>\n",
       "      <td>1.654645</td>\n",
       "      <td>1.669832</td>\n",
       "    </tr>\n",
       "    <tr>\n",
       "      <th>hotel_640</th>\n",
       "      <td>1.537705</td>\n",
       "      <td>1.536584</td>\n",
       "    </tr>\n",
       "  </tbody>\n",
       "</table>\n",
       "<p>130 rows × 2 columns</p>\n",
       "</div>"
      ],
      "text/plain": [
       "              Average_actual_ratings  Average_predicted_ratings\n",
       "product_code                                                   \n",
       "hotel_501                   0.184699                   0.171797\n",
       "hotel_502                   1.193443                   1.196647\n",
       "hotel_503                   1.485246                   1.491288\n",
       "hotel_504                   1.360656                   1.346979\n",
       "hotel_506                   1.767213                   1.765580\n",
       "...                              ...                        ...\n",
       "hotel_635                   1.500546                   1.518543\n",
       "hotel_636                   1.527869                   1.531566\n",
       "hotel_637                   1.628415                   1.631681\n",
       "hotel_639                   1.654645                   1.669832\n",
       "hotel_640                   1.537705                   1.536584\n",
       "\n",
       "[130 rows x 2 columns]"
      ]
     },
     "execution_count": 48,
     "metadata": {},
     "output_type": "execute_result"
    }
   ],
   "source": [
    "rmse_df"
   ]
  },
  {
   "cell_type": "code",
   "execution_count": 49,
   "metadata": {},
   "outputs": [
    {
     "data": {
      "text/html": [
       "<div>\n",
       "<style scoped>\n",
       "    .dataframe tbody tr th:only-of-type {\n",
       "        vertical-align: middle;\n",
       "    }\n",
       "\n",
       "    .dataframe tbody tr th {\n",
       "        vertical-align: top;\n",
       "    }\n",
       "\n",
       "    .dataframe thead th {\n",
       "        text-align: right;\n",
       "    }\n",
       "</style>\n",
       "<table border=\"1\" class=\"dataframe\">\n",
       "  <thead>\n",
       "    <tr style=\"text-align: right;\">\n",
       "      <th></th>\n",
       "      <th>Average_actual_ratings</th>\n",
       "      <th>Average_predicted_ratings</th>\n",
       "      <th>item_index</th>\n",
       "    </tr>\n",
       "    <tr>\n",
       "      <th>product_code</th>\n",
       "      <th></th>\n",
       "      <th></th>\n",
       "      <th></th>\n",
       "    </tr>\n",
       "  </thead>\n",
       "  <tbody>\n",
       "    <tr>\n",
       "      <th>hotel_501</th>\n",
       "      <td>0.184699</td>\n",
       "      <td>0.171797</td>\n",
       "      <td>0</td>\n",
       "    </tr>\n",
       "    <tr>\n",
       "      <th>hotel_502</th>\n",
       "      <td>1.193443</td>\n",
       "      <td>1.196647</td>\n",
       "      <td>1</td>\n",
       "    </tr>\n",
       "    <tr>\n",
       "      <th>hotel_503</th>\n",
       "      <td>1.485246</td>\n",
       "      <td>1.491288</td>\n",
       "      <td>2</td>\n",
       "    </tr>\n",
       "    <tr>\n",
       "      <th>hotel_504</th>\n",
       "      <td>1.360656</td>\n",
       "      <td>1.346979</td>\n",
       "      <td>3</td>\n",
       "    </tr>\n",
       "    <tr>\n",
       "      <th>hotel_506</th>\n",
       "      <td>1.767213</td>\n",
       "      <td>1.765580</td>\n",
       "      <td>4</td>\n",
       "    </tr>\n",
       "  </tbody>\n",
       "</table>\n",
       "</div>"
      ],
      "text/plain": [
       "              Average_actual_ratings  Average_predicted_ratings  item_index\n",
       "product_code                                                               \n",
       "hotel_501                   0.184699                   0.171797           0\n",
       "hotel_502                   1.193443                   1.196647           1\n",
       "hotel_503                   1.485246                   1.491288           2\n",
       "hotel_504                   1.360656                   1.346979           3\n",
       "hotel_506                   1.767213                   1.765580           4"
      ]
     },
     "execution_count": 49,
     "metadata": {},
     "output_type": "execute_result"
    }
   ],
   "source": [
    "rmse_df['item_index'] = np.arange(0, rmse_df.shape[0], 1)\n",
    "rmse_df.head()"
   ]
  },
  {
   "cell_type": "code",
   "execution_count": 50,
   "metadata": {},
   "outputs": [],
   "source": [
    "Rmse_value = round((((rmse_df.Average_actual_ratings-rmse_df.Average_predicted_ratings)**2).mean()**0.5),5)"
   ]
  },
  {
   "cell_type": "code",
   "execution_count": 51,
   "metadata": {},
   "outputs": [
    {
     "name": "stdout",
     "output_type": "stream",
     "text": [
      "RMSE VALUE FOR THE MODEL IS = 0.01503\n"
     ]
    }
   ],
   "source": [
    "print('RMSE VALUE FOR THE MODEL IS = {}'.format(Rmse_value))\n"
   ]
  },
  {
   "cell_type": "code",
   "execution_count": null,
   "metadata": {},
   "outputs": [],
   "source": []
  },
  {
   "cell_type": "code",
   "execution_count": null,
   "metadata": {},
   "outputs": [],
   "source": []
  },
  {
   "cell_type": "code",
   "execution_count": null,
   "metadata": {},
   "outputs": [],
   "source": []
  },
  {
   "cell_type": "code",
   "execution_count": null,
   "metadata": {},
   "outputs": [],
   "source": []
  },
  {
   "cell_type": "code",
   "execution_count": null,
   "metadata": {},
   "outputs": [],
   "source": []
  },
  {
   "cell_type": "code",
   "execution_count": null,
   "metadata": {},
   "outputs": [],
   "source": []
  },
  {
   "cell_type": "code",
   "execution_count": null,
   "metadata": {},
   "outputs": [],
   "source": []
  },
  {
   "cell_type": "code",
   "execution_count": null,
   "metadata": {},
   "outputs": [],
   "source": []
  }
 ],
 "metadata": {
  "kernelspec": {
   "display_name": "Python 3",
   "language": "python",
   "name": "python3"
  },
  "language_info": {
   "codemirror_mode": {
    "name": "ipython",
    "version": 3
   },
   "file_extension": ".py",
   "mimetype": "text/x-python",
   "name": "python",
   "nbconvert_exporter": "python",
   "pygments_lexer": "ipython3",
   "version": "3.8.1"
  }
 },
 "nbformat": 4,
 "nbformat_minor": 4
}
